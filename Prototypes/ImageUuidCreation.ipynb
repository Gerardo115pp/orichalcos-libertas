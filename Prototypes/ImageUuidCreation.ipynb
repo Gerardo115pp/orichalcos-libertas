{
 "metadata": {
  "language_info": {
   "codemirror_mode": {
    "name": "ipython",
    "version": 3
   },
   "file_extension": ".py",
   "mimetype": "text/x-python",
   "name": "python",
   "nbconvert_exporter": "python",
   "pygments_lexer": "ipython3",
   "version": "3.9.4"
  },
  "orig_nbformat": 2,
  "kernelspec": {
   "name": "python394jvsc74a57bd0767d51c1340bd893661ea55ea3124f6de3c7a262a8b4abca0554b478b1e2ff90",
   "display_name": "Python 3.9.4 64-bit"
  }
 },
 "nbformat": 4,
 "nbformat_minor": 2,
 "cells": [
  {
   "cell_type": "code",
   "execution_count": 10,
   "metadata": {},
   "outputs": [],
   "source": [
    "import cv2\n",
    "import numpy as np\n"
   ]
  },
  {
   "cell_type": "code",
   "execution_count": 11,
   "metadata": {},
   "outputs": [],
   "source": [
    "def dhash(image: np.ndarray, hash_size: int = 8):\n",
    "    resized: np.ndarray = cv2.resize(image, (hash_size + 1, hash_size))\n",
    "    diff: np.ndarray = resized[:, 1:] > resized[:, :-1]\n",
    "    return sum([2 ** i for (i, v) in enumerate(diff.flatten()) if v])\n"
   ]
  },
  {
   "cell_type": "code",
   "execution_count": 12,
   "metadata": {},
   "outputs": [
    {
     "output_type": "stream",
     "name": "stdout",
     "text": [
      "8624069592612103530 - 15361566188171501121 = -6737496595559397591\n"
     ]
    }
   ],
   "source": [
    "img_1: np.ndarray = cv2.imread(\"imI.jpg\")\n",
    "img_1 = cv2.cvtColor(img_1, cv2.COLOR_BGR2GRAY)\n",
    "h1 = dhash(img_1)  \n",
    "\n",
    "img_2: np.ndarray = cv2.imread(\"imI-copy.jpg\")\n",
    "img_2 = cv2.cvtColor(img_2, cv2.COLOR_BGR2GRAY)\n",
    "h2 = dhash(img_2)\n",
    "\n",
    "print(f\"{h1} - {h2} = {h1 - h2}\")\n"
   ]
  }
 ]
}